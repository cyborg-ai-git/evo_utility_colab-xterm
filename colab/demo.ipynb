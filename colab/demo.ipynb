{
  "cells": [
    {
      "cell_type": "code",
      "execution_count": 1,
      "metadata": {
        "colab": {
          "base_uri": "https://localhost:8080/"
        },
        "id": "qnz_zEcp5zAJ",
        "outputId": "6a1cbb02-b186-4e75-d16f-98d132da46bc"
      },
      "outputs": [
        {
          "name": "stdout",
          "output_type": "stream",
          "text": [
            "Collecting git+https://github.com/cyborg-ai-git/evo_utility_colab-xterm.git\n",
            "  Cloning https://github.com/cyborg-ai-git/evo_utility_colab-xterm.git to /tmp/pip-req-build-hi8bnzk9\n",
            "  Running command git clone --filter=blob:none --quiet https://github.com/cyborg-ai-git/evo_utility_colab-xterm.git /tmp/pip-req-build-hi8bnzk9\n",
            "  Resolved https://github.com/cyborg-ai-git/evo_utility_colab-xterm.git to commit 2877a734f4b9e865aca726b3b23c7df3f1278edf\n",
            "  Installing build dependencies ... \u001b[?25ldone\n",
            "\u001b[?25h  Getting requirements to build wheel ... \u001b[?25ldone\n",
            "\u001b[?25h  Preparing metadata (pyproject.toml) ... \u001b[?25ldone\n",
            "\u001b[?25hRequirement already satisfied: ptyprocess~=0.7.0 in ./.venv/lib/python3.12/site-packages (from cyborgai-colab-xterm==2025.9.201727.dev0) (0.7.0)\n",
            "Requirement already satisfied: tornado>5.1 in ./.venv/lib/python3.12/site-packages (from cyborgai-colab-xterm==2025.9.201727.dev0) (6.5.2)\n",
            "Building wheels for collected packages: cyborgai-colab-xterm\n",
            "  Building wheel for cyborgai-colab-xterm (pyproject.toml) ... \u001b[?25ldone\n",
            "\u001b[?25h  Created wheel for cyborgai-colab-xterm: filename=cyborgai_colab_xterm-2025.9.201727.dev0-py3-none-any.whl size=116614 sha256=faa772874f7d916aa9003fde31ea10af83903c7f0a92fd5b7a9618f69422ec10\n",
            "  Stored in directory: /tmp/pip-ephem-wheel-cache-_fesb78f/wheels/d7/cf/cd/8fd4e99f5dcc2d227d316d8d12d9276ea3a8223945bb6c4782\n",
            "Successfully built cyborgai-colab-xterm\n",
            "Installing collected packages: cyborgai-colab-xterm\n",
            "Successfully installed cyborgai-colab-xterm-2025.9.201727.dev0\n"
          ]
        }
      ],
      "source": [
        "!pip install git+https://github.com/cyborg-ai-git/evo_utility_colab-xterm.git\n",
        "%load_ext cyborgai_colab_xterm"
      ]
    },
    {
      "cell_type": "code",
      "execution_count": 2,
      "metadata": {
        "id": "L6fpF-d37DN1"
      },
      "outputs": [
        {
          "data": {
            "text/plain": [
              "Launching Xterm..."
            ]
          },
          "metadata": {},
          "output_type": "display_data"
        },
        {
          "name": "stdout",
          "output_type": "stream",
          "text": [
            "🚀  Listen to 10010\n",
            "{\"success\": true, \"reason\": null}\n",
            "\n"
          ]
        },
        {
          "data": {
            "text/html": [
              "\n",
              "      <iframe id=\"xterm-frame-cd92fd33f779b801\" width=\"100%\" height=\"1000\" frameborder=\"0\">\n",
              "      </iframe>\n",
              "      <script>\n",
              "        (function() {\n",
              "          const frame = document.getElementById(\"xterm-frame-cd92fd33f779b801\");\n",
              "          const url = new URL(\"/\", window.location);\n",
              "          const port = 10010;\n",
              "          if (port) {\n",
              "            url.port = port;\n",
              "          }\n",
              "          frame.src = url;\n",
              "        })();\n",
              "      </script>\n",
              "    "
            ],
            "text/plain": [
              "<IPython.core.display.HTML object>"
            ]
          },
          "metadata": {},
          "output_type": "display_data"
        }
      ],
      "source": [
        "%xterm height=1000 port=10010 command=\"ls -l\""
      ]
    }
  ],
  "metadata": {
    "colab": {
      "collapsed_sections": [],
      "name": "cyborgai-colab-xterm.ipynb",
      "provenance": []
    },
    "kernelspec": {
      "display_name": ".venv",
      "language": "python",
      "name": "python3"
    },
    "language_info": {
      "codemirror_mode": {
        "name": "ipython",
        "version": 3
      },
      "file_extension": ".py",
      "mimetype": "text/x-python",
      "name": "python",
      "nbconvert_exporter": "python",
      "pygments_lexer": "ipython3",
      "version": "3.12.7"
    }
  },
  "nbformat": 4,
  "nbformat_minor": 0
}
