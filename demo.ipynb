{
  "cells": [
    {
      "cell_type": "code",
      "execution_count": 8,
      "metadata": {
        "colab": {
          "base_uri": "https://localhost:8080/"
        },
        "id": "qnz_zEcp5zAJ",
        "outputId": "6a1cbb02-b186-4e75-d16f-98d132da46bc"
      },
      "outputs": [
        {
          "name": "stdout",
          "output_type": "stream",
          "text": [
            "Collecting git+https://github.com/cyborg-ai-git/evo_utility_colab-xterm.git\n",
            "  Cloning https://github.com/cyborg-ai-git/evo_utility_colab-xterm.git to /tmp/pip-req-build-uzt7krr7\n",
            "  Running command git clone --filter=blob:none --quiet https://github.com/cyborg-ai-git/evo_utility_colab-xterm.git /tmp/pip-req-build-uzt7krr7\n",
            "  Resolved https://github.com/cyborg-ai-git/evo_utility_colab-xterm.git to commit e59c11a740eb9125c8749a1332f827c085dee3fe\n",
            "  Installing build dependencies ... \u001b[?25ldone\n",
            "\u001b[?25h  Getting requirements to build wheel ... \u001b[?25ldone\n",
            "\u001b[?25h  Preparing metadata (pyproject.toml) ... \u001b[?25ldone\n",
            "\u001b[?25hRequirement already satisfied: ptyprocess~=0.7.0 in ./.venv/lib/python3.12/site-packages (from colab-xterm==0.1.0.dev0) (0.7.0)\n",
            "Requirement already satisfied: tornado>5.1 in ./.venv/lib/python3.12/site-packages (from colab-xterm==0.1.0.dev0) (6.5.2)\n",
            "The colabxterm extension is already loaded. To reload it, use:\n",
            "  %reload_ext colabxterm\n"
          ]
        }
      ],
      "source": [
        "!pip install git+https://github.com/cyborg-ai-git/evo_utility_colab-xterm.git\n",
        "%load_ext colabxterm"
      ]
    },
    {
      "cell_type": "code",
      "execution_count": 9,
      "metadata": {
        "id": "L6fpF-d37DN1"
      },
      "outputs": [
        {
          "data": {
            "text/plain": [
              "Launching Xterm..."
            ]
          },
          "metadata": {},
          "output_type": "display_data"
        },
        {
          "name": "stdout",
          "output_type": "stream",
          "text": [
            "DEBUG: Received command: ['ls', '-l']\n",
            "DEBUG: XTerm received argv: ['ls', '-l']\n",
            "DEBUG: Executing command: /bin/bash -c 'ls -l'\n",
            "🚀  Listen to 10011\n",
            "{\"success\": true, \"reason\": null}\n",
            "\n"
          ]
        },
        {
          "data": {
            "text/html": [
              "\n",
              "      <iframe id=\"xterm-frame-6855e3d6c74803d1\" width=\"100%\" height=\"1000\" frameborder=\"0\">\n",
              "      </iframe>\n",
              "      <script>\n",
              "        (function() {\n",
              "          const frame = document.getElementById(\"xterm-frame-6855e3d6c74803d1\");\n",
              "          const url = new URL(\"/\", window.location);\n",
              "          const port = 10011;\n",
              "          if (port) {\n",
              "            url.port = port;\n",
              "          }\n",
              "          frame.src = url;\n",
              "        })();\n",
              "      </script>\n",
              "    "
            ],
            "text/plain": [
              "<IPython.core.display.HTML object>"
            ]
          },
          "metadata": {},
          "output_type": "display_data"
        }
      ],
      "source": [
        "%xterm height=1000 port=10010 command=\"ls -l\""
      ]
    }
  ],
  "metadata": {
    "colab": {
      "collapsed_sections": [],
      "name": "colab-xterm.ipynb",
      "provenance": []
    },
    "kernelspec": {
      "display_name": ".venv",
      "language": "python",
      "name": "python3"
    },
    "language_info": {
      "codemirror_mode": {
        "name": "ipython",
        "version": 3
      },
      "file_extension": ".py",
      "mimetype": "text/x-python",
      "name": "python",
      "nbconvert_exporter": "python",
      "pygments_lexer": "ipython3",
      "version": "3.12.7"
    }
  },
  "nbformat": 4,
  "nbformat_minor": 0
}
