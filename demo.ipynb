{
  "cells": [
    {
      "cell_type": "code",
      "execution_count": 1,
      "metadata": {
        "colab": {
          "base_uri": "https://localhost:8080/"
        },
        "id": "qnz_zEcp5zAJ",
        "outputId": "6a1cbb02-b186-4e75-d16f-98d132da46bc"
      },
      "outputs": [
        {
          "name": "stdout",
          "output_type": "stream",
          "text": [
            "Collecting git+https://github.com/cyborg-ai-git/evo_utility_colab-xterm.git\n",
            "  Cloning https://github.com/cyborg-ai-git/evo_utility_colab-xterm.git to /tmp/pip-req-build-r33m21xw\n",
            "  Running command git clone --filter=blob:none --quiet https://github.com/cyborg-ai-git/evo_utility_colab-xterm.git /tmp/pip-req-build-r33m21xw\n",
            "  Resolved https://github.com/cyborg-ai-git/evo_utility_colab-xterm.git to commit 70da5dfc789a02eb3b3a1c1d60f5ab923919787f\n",
            "  Installing build dependencies ... \u001b[?25ldone\n",
            "\u001b[?25h  Getting requirements to build wheel ... \u001b[?25ldone\n",
            "\u001b[?25h  Preparing metadata (pyproject.toml) ... \u001b[?25ldone\n",
            "\u001b[?25hRequirement already satisfied: ptyprocess~=0.7.0 in ./.venv/lib/python3.12/site-packages (from colab-xterm==2025.9.201702.dev0) (0.7.0)\n",
            "Requirement already satisfied: tornado>5.1 in ./.venv/lib/python3.12/site-packages (from colab-xterm==2025.9.201702.dev0) (6.5.2)\n"
          ]
        }
      ],
      "source": [
        "!pip install git+https://github.com/cyborg-ai-git/evo_utility_colab-xterm.git\n",
        "%load_ext colabxterm"
      ]
    },
    {
      "cell_type": "code",
      "execution_count": 2,
      "metadata": {
        "id": "L6fpF-d37DN1"
      },
      "outputs": [
        {
          "data": {
            "text/plain": [
              "Launching Xterm..."
            ]
          },
          "metadata": {},
          "output_type": "display_data"
        },
        {
          "name": "stdout",
          "output_type": "stream",
          "text": [
            "DEBUG: notebook.py calling manager.start with command_args: ['ls', '-l']\n",
            "DEBUG: manager.start executing: ['python', '-m', 'colabxterm', '--port', '10010', 'ls', '-l']\n",
            "DEBUG: Received command: ['ls', '-l']\n",
            "DEBUG: XTerm.__init__ received argv: ['ls', '-l']\n",
            "DEBUG: Initial command set to: 'ls -l'\n",
            "DEBUG: Will send initial command: 'ls -l'\n",
            "DEBUG: Waiting 0.5 seconds before sending command...\n",
            "🚀  Listen to 10010\n",
            "{\"success\": true, \"reason\": null}\n",
            "\n"
          ]
        },
        {
          "data": {
            "text/html": [
              "\n",
              "      <iframe id=\"xterm-frame-fdee4752e1abebce\" width=\"100%\" height=\"1000\" frameborder=\"0\">\n",
              "      </iframe>\n",
              "      <script>\n",
              "        (function() {\n",
              "          const frame = document.getElementById(\"xterm-frame-fdee4752e1abebce\");\n",
              "          const url = new URL(\"/\", window.location);\n",
              "          const port = 10010;\n",
              "          if (port) {\n",
              "            url.port = port;\n",
              "          }\n",
              "          frame.src = url;\n",
              "        })();\n",
              "      </script>\n",
              "    "
            ],
            "text/plain": [
              "<IPython.core.display.HTML object>"
            ]
          },
          "metadata": {},
          "output_type": "display_data"
        },
        {
          "name": "stdout",
          "output_type": "stream",
          "text": [
            "DEBUG: Sending command to process: 'ls -l'\n",
            "DEBUG: Command sent!\n"
          ]
        }
      ],
      "source": [
        "%xterm height=1000 port=10010 command=\"ls -l\""
      ]
    }
  ],
  "metadata": {
    "colab": {
      "collapsed_sections": [],
      "name": "colab-xterm.ipynb",
      "provenance": []
    },
    "kernelspec": {
      "display_name": ".venv",
      "language": "python",
      "name": "python3"
    },
    "language_info": {
      "codemirror_mode": {
        "name": "ipython",
        "version": 3
      },
      "file_extension": ".py",
      "mimetype": "text/x-python",
      "name": "python",
      "nbconvert_exporter": "python",
      "pygments_lexer": "ipython3",
      "version": "3.12.7"
    }
  },
  "nbformat": 4,
  "nbformat_minor": 0
}
