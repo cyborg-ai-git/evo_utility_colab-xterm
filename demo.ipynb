{
  "cells": [
    {
      "cell_type": "code",
      "execution_count": 1,
      "metadata": {
        "colab": {
          "base_uri": "https://localhost:8080/"
        },
        "id": "qnz_zEcp5zAJ",
        "outputId": "6a1cbb02-b186-4e75-d16f-98d132da46bc"
      },
      "outputs": [
        {
          "name": "stdout",
          "output_type": "stream",
          "text": [
            "Collecting git+https://github.com/cyborg-ai-git/evo_utility_colab-xterm.git\n",
            "  Cloning https://github.com/cyborg-ai-git/evo_utility_colab-xterm.git to /tmp/pip-req-build-lg8ucttq\n",
            "  Running command git clone --filter=blob:none --quiet https://github.com/cyborg-ai-git/evo_utility_colab-xterm.git /tmp/pip-req-build-lg8ucttq\n",
            "  Resolved https://github.com/cyborg-ai-git/evo_utility_colab-xterm.git to commit d7ddd4f631744c3096906f52aae24f6169aa1921\n",
            "  Installing build dependencies ... \u001b[?25ldone\n",
            "\u001b[?25h  Getting requirements to build wheel ... \u001b[?25ldone\n",
            "\u001b[?25h  Preparing metadata (pyproject.toml) ... \u001b[?25ldone\n",
            "\u001b[?25hRequirement already satisfied: ptyprocess~=0.7.0 in ./.venv/lib/python3.12/site-packages (from colab-xterm==2025.9.201717.dev0) (0.7.0)\n",
            "Requirement already satisfied: tornado>5.1 in ./.venv/lib/python3.12/site-packages (from colab-xterm==2025.9.201717.dev0) (6.5.2)\n",
            "Building wheels for collected packages: colab-xterm\n",
            "  Building wheel for colab-xterm (pyproject.toml) ... \u001b[?25ldone\n",
            "\u001b[?25h  Created wheel for colab-xterm: filename=colab_xterm-2025.9.201717.dev0-py3-none-any.whl size=116464 sha256=9c963bad5dc70a24b483e6bd36d91fe2648637fd21d5ce11f50557e186b30932\n",
            "  Stored in directory: /tmp/pip-ephem-wheel-cache-xm51yy9i/wheels/d7/cf/cd/8fd4e99f5dcc2d227d316d8d12d9276ea3a8223945bb6c4782\n",
            "Successfully built colab-xterm\n",
            "Installing collected packages: colab-xterm\n",
            "  Attempting uninstall: colab-xterm\n",
            "    Found existing installation: colab-xterm 2025.9.201702.dev0\n",
            "    Uninstalling colab-xterm-2025.9.201702.dev0:\n",
            "      Successfully uninstalled colab-xterm-2025.9.201702.dev0\n",
            "Successfully installed colab-xterm-2025.9.201717.dev0\n"
          ]
        }
      ],
      "source": [
        "!pip install git+https://github.com/cyborg-ai-git/evo_utility_colab-xterm.git\n",
        "%load_ext cyborgai_colab_xterm"
      ]
    },
    {
      "cell_type": "code",
      "execution_count": 2,
      "metadata": {
        "id": "L6fpF-d37DN1"
      },
      "outputs": [
        {
          "data": {
            "text/plain": [
              "Launching Xterm..."
            ]
          },
          "metadata": {},
          "output_type": "display_data"
        },
        {
          "name": "stdout",
          "output_type": "stream",
          "text": [
            "DEBUG: args_string = 'height=1000 port=10010 command=\"ls -l\"'\n",
            "DEBUG: parsed_args = ['height=1000', 'port=10010', 'command=ls -l']\n",
            "DEBUG: parameter = 'height=1000', kv_pair = ['height', '1000']\n",
            "DEBUG: k = 'height', v = '1000'\n",
            "DEBUG: Set height = 1000\n",
            "DEBUG: parameter = 'port=10010', kv_pair = ['port', '10010']\n",
            "DEBUG: k = 'port', v = '10010'\n",
            "DEBUG: Set port = 10010\n",
            "DEBUG: parameter = 'command=ls -l', kv_pair = ['command', 'ls -l']\n",
            "DEBUG: k = 'command', v = 'ls -l'\n",
            "DEBUG: Found command parameter: 'ls -l'\n",
            "DEBUG: Parsed command_args = ['ls', '-l']\n",
            "DEBUG: notebook.py calling manager.start with command_args: ['ls', '-l']\n",
            "DEBUG: manager.start executing: ['python', '-m', 'colabxterm', '--port', '10010', 'ls', '-l']\n",
            "DEBUG: Received command: ['ls', '-l']\n",
            "DEBUG: XTerm.__init__ received argv: ['ls', '-l']\n",
            "DEBUG: Initial command set to: 'ls -l'\n",
            "DEBUG: Setting up tornado app with initial_command: ls -l\n",
            "🚀  Listen to 10010\n",
            "{\"success\": true, \"reason\": null}\n",
            "\n"
          ]
        },
        {
          "data": {
            "text/html": [
              "\n",
              "      <iframe id=\"xterm-frame-b66d95a7d2c76df4\" width=\"100%\" height=\"1000\" frameborder=\"0\">\n",
              "      </iframe>\n",
              "      <script>\n",
              "        (function() {\n",
              "          const frame = document.getElementById(\"xterm-frame-b66d95a7d2c76df4\");\n",
              "          const url = new URL(\"/\", window.location);\n",
              "          const port = 10010;\n",
              "          if (port) {\n",
              "            url.port = port;\n",
              "          }\n",
              "          frame.src = url;\n",
              "        })();\n",
              "      </script>\n",
              "    "
            ],
            "text/plain": [
              "<IPython.core.display.HTML object>"
            ]
          },
          "metadata": {},
          "output_type": "display_data"
        }
      ],
      "source": [
        "%xterm height=1000 port=10010 command=\"ls -l\""
      ]
    }
  ],
  "metadata": {
    "colab": {
      "collapsed_sections": [],
      "name": "cyborgai-colab-xterm.ipynb",
      "provenance": []
    },
    "kernelspec": {
      "display_name": ".venv",
      "language": "python",
      "name": "python3"
    },
    "language_info": {
      "codemirror_mode": {
        "name": "ipython",
        "version": 3
      },
      "file_extension": ".py",
      "mimetype": "text/x-python",
      "name": "python",
      "nbconvert_exporter": "python",
      "pygments_lexer": "ipython3",
      "version": "3.12.7"
    }
  },
  "nbformat": 4,
  "nbformat_minor": 0
}
