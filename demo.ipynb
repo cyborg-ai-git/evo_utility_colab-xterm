{
  "cells": [
    {
      "cell_type": "code",
      "execution_count": 1,
      "metadata": {
        "colab": {
          "base_uri": "https://localhost:8080/"
        },
        "id": "qnz_zEcp5zAJ",
        "outputId": "6a1cbb02-b186-4e75-d16f-98d132da46bc"
      },
      "outputs": [
        {
          "name": "stdout",
          "output_type": "stream",
          "text": [
            "Collecting git+https://github.com/cyborg-ai-git/evo_utility_colab-xterm.git\n",
            "  Cloning https://github.com/cyborg-ai-git/evo_utility_colab-xterm.git to /tmp/pip-req-build-4b7zrfhm\n",
            "  Running command git clone --filter=blob:none --quiet https://github.com/cyborg-ai-git/evo_utility_colab-xterm.git /tmp/pip-req-build-4b7zrfhm\n",
            "  Resolved https://github.com/cyborg-ai-git/evo_utility_colab-xterm.git to commit f43fbe4f2be48ed73c9e1a0636da81659236c81a\n",
            "  Installing build dependencies ... \u001b[?25ldone\n",
            "\u001b[?25h  Getting requirements to build wheel ... \u001b[?25ldone\n",
            "\u001b[?25h  Preparing metadata (pyproject.toml) ... \u001b[?25ldone\n",
            "\u001b[?25hRequirement already satisfied: ptyprocess~=0.7.0 in ./.venv/lib/python3.12/site-packages (from colab-xterm==0.1.0.dev0) (0.7.0)\n",
            "Requirement already satisfied: tornado>5.1 in ./.venv/lib/python3.12/site-packages (from colab-xterm==0.1.0.dev0) (6.5.2)\n",
            "Building wheels for collected packages: colab-xterm\n",
            "  Building wheel for colab-xterm (pyproject.toml) ... \u001b[?25ldone\n",
            "\u001b[?25h  Created wheel for colab-xterm: filename=colab_xterm-0.1.0.dev0-py3-none-any.whl size=115899 sha256=4da776fe2c16d15acb7173f4e6b61a825a091697e99d42c94c8ce466291db7f8\n",
            "  Stored in directory: /tmp/pip-ephem-wheel-cache-o2lsqzlr/wheels/d7/cf/cd/8fd4e99f5dcc2d227d316d8d12d9276ea3a8223945bb6c4782\n",
            "Successfully built colab-xterm\n",
            "Installing collected packages: colab-xterm\n",
            "Successfully installed colab-xterm-0.1.0.dev0\n"
          ]
        }
      ],
      "source": [
        "!pip install git+https://github.com/cyborg-ai-git/evo_utility_colab-xterm.git\n",
        "%load_ext colabxterm"
      ]
    },
    {
      "cell_type": "code",
      "execution_count": 2,
      "metadata": {
        "id": "L6fpF-d37DN1"
      },
      "outputs": [
        {
          "data": {
            "text/plain": [
              "Launching Xterm..."
            ]
          },
          "metadata": {},
          "output_type": "display_data"
        },
        {
          "name": "stderr",
          "output_type": "stream",
          "text": [
            "usage: python -m colabxterm [-h] [-p PORT] [command ...]\n",
            "python -m colabxterm: error: unrecognized arguments: -l\n"
          ]
        },
        {
          "data": {
            "text/html": [
              "\n",
              "      <iframe id=\"xterm-frame-50de6ab4be792109\" width=\"100%\" height=\"1000\" frameborder=\"0\">\n",
              "      </iframe>\n",
              "      <script>\n",
              "        (function() {\n",
              "          const frame = document.getElementById(\"xterm-frame-50de6ab4be792109\");\n",
              "          const url = new URL(\"/\", window.location);\n",
              "          const port = 10002;\n",
              "          if (port) {\n",
              "            url.port = port;\n",
              "          }\n",
              "          frame.src = url;\n",
              "        })();\n",
              "      </script>\n",
              "    "
            ],
            "text/plain": [
              "<IPython.core.display.HTML object>"
            ]
          },
          "metadata": {},
          "output_type": "display_data"
        }
      ],
      "source": [
        "%xterm height=1000 port=10002 command=\"ls -l\""
      ]
    }
  ],
  "metadata": {
    "colab": {
      "collapsed_sections": [],
      "name": "colab-xterm.ipynb",
      "provenance": []
    },
    "kernelspec": {
      "display_name": ".venv",
      "language": "python",
      "name": "python3"
    },
    "language_info": {
      "codemirror_mode": {
        "name": "ipython",
        "version": 3
      },
      "file_extension": ".py",
      "mimetype": "text/x-python",
      "name": "python",
      "nbconvert_exporter": "python",
      "pygments_lexer": "ipython3",
      "version": "3.12.7"
    }
  },
  "nbformat": 4,
  "nbformat_minor": 0
}
